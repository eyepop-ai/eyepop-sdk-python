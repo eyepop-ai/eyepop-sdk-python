{
 "cells": [
  {
   "cell_type": "code",
   "execution_count": 1,
   "id": "2af72472",
   "metadata": {},
   "outputs": [
    {
     "name": "stderr",
     "output_type": "stream",
     "text": [
      "/Users/ryan/Code/eyepop/eyepop-sdk-python/.venv/lib/python3.11/site-packages/pydantic/_internal/_generate_schema.py:628: UserWarning: <built-in function any> is not a Python type (it may be an instance of an object), Pydantic will allow any object with no validation since we cannot even enforce that the input is an instance of the given type. To get rid of this error wrap the type with `pydantic.SkipValidation`.\n",
      "  warn(\n"
     ]
    },
    {
     "name": "stdout",
     "output_type": "stream",
     "text": [
      "has_experimental_url: True\n"
     ]
    },
    {
     "ename": "",
     "evalue": "",
     "output_type": "error",
     "traceback": [
      "\u001b[1;31mThe Kernel crashed while executing code in the current cell or a previous cell. \n",
      "\u001b[1;31mPlease review the code in the cell(s) to identify a possible cause of the failure. \n",
      "\u001b[1;31mClick <a href='https://aka.ms/vscodeJupyterKernelCrash'>here</a> for more info. \n",
      "\u001b[1;31mView Jupyter <a href='command:jupyter.viewOutput'>log</a> for further details."
     ]
    }
   ],
   "source": [
    "# type: ignore\n",
    "\n",
    "import json\n",
    "\n",
    "import matplotlib.pyplot as plt\n",
    "from PIL import Image\n",
    "\n",
    "from eyepop import EyePopSdk\n",
    "from eyepop.worker.worker_types import Pop, InferenceComponent, InferenceType\n",
    "\n",
    "\n",
    "\n",
    "example_image_path = './example.jpg'\n",
    "\n",
    "with EyePopSdk.workerEndpoint(pop_id='transient') as endpoint:\n",
    "    modelInstanceDef = {\n",
    "        'id': 'my-yolo-v7',\n",
    "        'model_folder_url': 'https://s3.amazonaws.com/models.eyepop.ai/releases/yolov7/1.0.1/models/YOLOv7/COCO/Latest/TensorFlowLite/float32'\n",
    "    }\n",
    "    if endpoint is None:\n",
    "        raise ValueError(\"Endpoint is None\")\n",
    "    model = endpoint.load_model(modelInstanceDef)\n",
    "    # pop = Pop(\n",
    "    #     components=[InferenceComponent(\n",
    "    #         inferenceTypes=[InferenceType.OBJECT_DETECTION],\n",
    "    #         modelUuid=model['id']\n",
    "    #     )]\n",
    "    # )))\n",
    "    # endpoint.set_pop(pop)\n",
    "    # result = endpoint.upload(example_image_path).predict()\n",
    "    # print(json.dumps(result))\n",
    "    # with Image.open(example_image_path) as image:\n",
    "    #     plt.imshow(image)\n",
    "    # plot = EyePopSdk.plot(plt.gca())\n",
    "    # plot.prediction(result)\n",
    "    # plt.show()\n",
    "\n",
    "\n"
   ]
  }
 ],
 "metadata": {
  "kernelspec": {
   "display_name": ".venv",
   "language": "python",
   "name": "python3"
  },
  "language_info": {
   "codemirror_mode": {
    "name": "ipython",
    "version": 3
   },
   "file_extension": ".py",
   "mimetype": "text/x-python",
   "name": "python",
   "nbconvert_exporter": "python",
   "pygments_lexer": "ipython3",
   "version": "3.11.12"
  }
 },
 "nbformat": 4,
 "nbformat_minor": 5
}
