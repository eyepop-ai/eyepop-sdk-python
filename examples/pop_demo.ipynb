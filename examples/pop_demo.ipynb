{
 "cells": [
  {
   "cell_type": "code",
   "execution_count": 1,
   "id": "ae2b922b",
   "metadata": {},
   "outputs": [
    {
     "name": "stdout",
     "output_type": "stream",
     "text": [
      "Note: you may need to restart the kernel to use updated packages.\n"
     ]
    }
   ],
   "source": [
    "%pip install -q python-dotenv pyqt5 webui2 pybars3"
   ]
  },
  {
   "cell_type": "code",
   "execution_count": null,
   "id": "06c430a1",
   "metadata": {},
   "outputs": [
    {
     "name": "stdout",
     "output_type": "stream",
     "text": [
      "has_experimental_url: True\n"
     ]
    },
    {
     "ename": "NameError",
     "evalue": "name 'job' is not defined",
     "output_type": "error",
     "traceback": [
      "\u001b[31m---------------------------------------------------------------------------\u001b[39m",
      "\u001b[31mNameError\u001b[39m                                 Traceback (most recent call last)",
      "\u001b[36mCell\u001b[39m\u001b[36m \u001b[39m\u001b[32mIn[1]\u001b[39m\u001b[32m, line 34\u001b[39m\n\u001b[32m     32\u001b[39m jobs = []\n\u001b[32m     33\u001b[39m \u001b[38;5;66;03m# job = await endpoint.upload(\"./example.jpg\")\u001b[39;00m\n\u001b[32m---> \u001b[39m\u001b[32m34\u001b[39m jobs.append(on_ready(\u001b[43mjob\u001b[49m, \u001b[33m\"\u001b[39m\u001b[33m./example.jpg\u001b[39m\u001b[33m\"\u001b[39m))\n\u001b[32m     35\u001b[39m results = \u001b[38;5;28;01mawait\u001b[39;00m asyncio.gather(*jobs)\n\u001b[32m     36\u001b[39m \u001b[38;5;28mprint\u001b[39m(results)\n",
      "\u001b[31mNameError\u001b[39m: name 'job' is not defined"
     ]
    }
   ],
   "source": [
    "#!/usr/bin/env python3\n",
    "\n",
    "import asyncio\n",
    "import json\n",
    "import os\n",
    "from eyepop import EyePopSdk\n",
    "from eyepop.worker.worker_types import Pop, InferenceComponent\n",
    "from dotenv import load_dotenv\n",
    "\n",
    "load_dotenv()\n",
    "\n",
    "eyepop_secret_key = os.getenv(\"EYEPOP_SECRET_KEY\")\n",
    "eyepop_pop_id = os.getenv(\"EYEPOP_POP_ID\")\n",
    "\n",
    "# Define the person detection pop\n",
    "person_pop = Pop(components=[\n",
    "    InferenceComponent(\n",
    "        model='eyepop.person:latest',\n",
    "        categoryName=\"person\"\n",
    "    )\n",
    "])\n",
    "\n",
    "async def detect_persons():\n",
    "    # Connect to EyePop endpoint\n",
    "    async with EyePopSdk.workerEndpoint(\n",
    "        pop_id=eyepop_pop_id,\n",
    "        secret_key=eyepop_secret_key,\n",
    "        is_async=True,\n",
    "        is_sandbox=True,\n",
    "    ) as endpoint:\n",
    "        # Set the pop configuration\n",
    "        await endpoint.set_pop(person_pop)\n",
    "        \n",
    "        # Upload and process the example image\n",
    "        job = await endpoint.upload('examples/example.jpg')\n",
    "        \n",
    "        # Get prediction results\n",
    "        while result := await job.predict():\n",
    "            # Print the results\n",
    "            print(json.dumps(result, indent=2))\n",
    "\n",
    "if __name__ == \"__main__\":\n",
    "    asyncio.run(detect_persons())"
   ]
  },
  {
   "cell_type": "code",
   "execution_count": null,
   "id": "2af72472",
   "metadata": {},
   "outputs": [],
   "source": []
  }
 ],
 "metadata": {
  "kernelspec": {
   "display_name": ".venv",
   "language": "python",
   "name": "python3"
  },
  "language_info": {
   "codemirror_mode": {
    "name": "ipython",
    "version": 3
   },
   "file_extension": ".py",
   "mimetype": "text/x-python",
   "name": "python",
   "nbconvert_exporter": "python",
   "pygments_lexer": "ipython3",
   "version": "3.12.9"
  }
 },
 "nbformat": 4,
 "nbformat_minor": 5
}
