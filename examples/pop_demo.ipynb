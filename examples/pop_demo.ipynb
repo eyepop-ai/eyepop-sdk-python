{
 "cells": [
  {
   "cell_type": "code",
   "execution_count": null,
   "id": "ae2b922b",
   "metadata": {},
   "outputs": [],
   "source": [
    "%pip install -q python-dotenv pyqt5 webui2 pybars3"
   ]
  },
  {
   "cell_type": "code",
   "execution_count": null,
   "id": "8543a376",
   "metadata": {},
   "outputs": [],
   "source": [
    "%pip install -e ../"
   ]
  },
  {
   "cell_type": "code",
   "execution_count": null,
   "id": "06c430a1",
   "metadata": {},
   "outputs": [],
   "source": [
    "#!/usr/bin/env python3\n",
    "\n",
    "import asyncio\n",
    "import json\n",
    "import os\n",
    "from eyepop import EyePopSdk\n",
    "from eyepop.worker.worker_types import Pop, InferenceComponent\n",
    "\n",
    "# Define the person detection pop\n",
    "person_pop = Pop(components=[\n",
    "    InferenceComponent(\n",
    "        model='eyepop.person:latest',\n",
    "        categoryName=\"person\"\n",
    "    )\n",
    "])\n",
    "\n",
    "async def detect_persons():\n",
    "    # Connect to EyePop endpoint\n",
    "    async with EyePopSdk.workerEndpoint(is_async=True) as endpoint:\n",
    "        # Set the pop configuration\n",
    "        await endpoint.set_pop(person_pop)\n",
    "        \n",
    "        # Upload and process the example image\n",
    "        job = await endpoint.upload('examples/example.jpg')\n",
    "        \n",
    "        # Get prediction results\n",
    "        while result := await job.predict():\n",
    "            # Print the results\n",
    "            print(json.dumps(result, indent=2))\n",
    "\n",
    "if __name__ == \"__main__\":\n",
    "    asyncio.run(detect_persons())"
   ]
  },
  {
   "cell_type": "code",
   "execution_count": null,
   "id": "2af72472",
   "metadata": {},
   "outputs": [],
   "source": []
  }
 ],
 "metadata": {
  "kernelspec": {
   "display_name": ".venv",
   "language": "python",
   "name": "python3"
  },
  "language_info": {
   "codemirror_mode": {
    "name": "ipython",
    "version": 3
   },
   "file_extension": ".py",
   "mimetype": "text/x-python",
   "name": "python",
   "nbconvert_exporter": "python",
   "pygments_lexer": "ipython3",
   "version": "3.12.9"
  }
 },
 "nbformat": 4,
 "nbformat_minor": 5
}
